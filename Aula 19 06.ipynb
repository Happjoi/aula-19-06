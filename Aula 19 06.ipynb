{
 "cells": [
  {
   "cell_type": "code",
   "execution_count": 34,
   "metadata": {},
   "outputs": [],
   "source": [
    "#criando um classe\n",
    "class Animal():\n",
    "\n",
    "#Construtor de Classe\n",
    "   def __init__(self, name, weight, color):\n",
    "    #atributos\n",
    "      self.nome = name\n",
    "      self.peso = weight\n",
    "      self.corDoPelo = color\n",
    "    \n",
    "   def imprimirDados(self):\n",
    "       return(\"Nome: %s \\nPeso: %s\" %(self.nome, self.peso))\n",
    "\n",
    "   def latir(self, barulho):\n",
    "        print(barulho)\n"
   ]
  },
  {
   "cell_type": "code",
   "execution_count": 36,
   "metadata": {},
   "outputs": [
    {
     "name": "stdout",
     "output_type": "stream",
     "text": [
      "Nome: Marlene \n",
      "Peso: 7.9\n",
      "Au, Au!\n",
      "Nome: Cibele \n",
      "Peso: 4.5\n",
      "Miau!\n"
     ]
    }
   ],
   "source": [
    "#Instanciando um objeto cachorro\n",
    "caozinho = Animal (\"Marlene\", 7.9, \"Caramelo\")\n",
    "gato = Animal(\"Cibele\", 4.5, \"Cinza\")\n",
    "\n",
    "#Chamando o método do objeto criado\n",
    "print(caozinho.imprimirDados())\n",
    "caozinho.latir(\"Au, Au!\")\n",
    "\n",
    "print(gato.imprimirDados())\n",
    "gato.latir(\"Miau!\")"
   ]
  },
  {
   "cell_type": "code",
   "execution_count": 49,
   "metadata": {},
   "outputs": [],
   "source": [
    "#Criando uma classe chamada Livro\n",
    "class Livro():\n",
    "\n",
    "    def __init__(self, titulo, isbn):\n",
    "\n",
    "    #Atributos de cada objeto criado a partir desta classe.\n",
    "    #O self indica que estes são atributos dos objetos\n",
    "        self.titulo = \"O Monge e o Executivo\"\n",
    "        self.isbn = 9988888\n",
    "        print(\"Construtor chamado para criar um objeto desta classe\")\n",
    "\n",
    "#Métodos são funções, que recebem como parâmetro atributos do objeto criado\n",
    "def imprime(self):\n",
    "    print(\"Foi criado o livro %s e ISBN %d\" %(self.titulo, self.isbn))"
   ]
  },
  {
   "cell_type": "code",
   "execution_count": 53,
   "metadata": {},
   "outputs": [
    {
     "name": "stdout",
     "output_type": "stream",
     "text": [
      "Construtor chamado para criar um objeto desta classe\n"
     ]
    }
   ],
   "source": [
    "#Criando uma instância da classe Livro\n",
    "Livro2 = Livro(\"A Menina que Roubava Livros\", 77886611)\n"
   ]
  },
  {
   "cell_type": "code",
   "execution_count": 54,
   "metadata": {},
   "outputs": [
    {
     "data": {
      "text/plain": [
       "'O Monge e o Executivo'"
      ]
     },
     "execution_count": 54,
     "metadata": {},
     "output_type": "execute_result"
    }
   ],
   "source": [
    "Livro2.titulo"
   ]
  }
 ],
 "metadata": {
  "kernelspec": {
   "display_name": "Python 3",
   "language": "python",
   "name": "python3"
  },
  "language_info": {
   "codemirror_mode": {
    "name": "ipython",
    "version": 3
   },
   "file_extension": ".py",
   "mimetype": "text/x-python",
   "name": "python",
   "nbconvert_exporter": "python",
   "pygments_lexer": "ipython3",
   "version": "3.11.9"
  }
 },
 "nbformat": 4,
 "nbformat_minor": 2
}
